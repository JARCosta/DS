{
 "cells": [
  {
   "cell_type": "code",
   "execution_count": 1,
   "metadata": {},
   "outputs": [],
   "source": [
    "from typing import Literal\n",
    "from numpy import array, ndarray\n",
    "from sklearn.neighbors import KNeighborsClassifier\n",
    "from matplotlib.pyplot import figure, savefig, show\n",
    "from dslabs_functions import CLASS_EVAL_METRICS, DELTA_IMPROVE, plot_multiline_chart\n",
    "from dslabs_functions import read_train_test_from_files, plot_evaluation_results\n",
    "\n",
    "def knn_study(\n",
    "        trnX: ndarray, trnY: array, tstX: ndarray, tstY: array, k_max: int=19, lag: int=2, metric='accuracy'\n",
    "        ) -> tuple[KNeighborsClassifier | None, dict]:\n",
    "    dist: list[Literal['manhattan', 'euclidean', 'chebyshev']] = ['chebyshev',]\n",
    "\n",
    "    kvalues: list[int] = [i for i in range(1, k_max+1, lag)]\n",
    "    best_model: KNeighborsClassifier | None = None\n",
    "    best_params: dict = {'name': 'KNN', 'metric': metric, 'params': ()}\n",
    "    best_performance: float = 0.0\n",
    "\n",
    "    values: dict[str, list] = {}\n",
    "    for d in dist:\n",
    "        y_tst_values: list = []\n",
    "        for k in kvalues:\n",
    "            clf = KNeighborsClassifier(n_neighbors=k, metric=d)\n",
    "            clf.fit(trnX, trnY)\n",
    "            prdY: array = clf.predict(tstX)\n",
    "            eval: float = CLASS_EVAL_METRICS[metric](tstY, prdY)\n",
    "            y_tst_values.append(eval)\n",
    "            if eval - best_performance > DELTA_IMPROVE:\n",
    "                best_performance: float = eval\n",
    "                best_params['params'] = (k, d)\n",
    "                best_model = clf\n",
    "            # print(f'KNN {d} k={k}')\n",
    "        values[d] = y_tst_values\n",
    "    print(f\"KNN best with k={best_params['params'][0]} and {best_params['params'][1]}\")\n",
    "    plot_multiline_chart(kvalues, values, title=f'KNN Models ({metric})', xlabel='k', ylabel=metric, percentage=True)\n",
    "\n",
    "    return best_model, best_params\n",
    "\n",
    "file_tag = 'class_pos_covid'\n",
    "train_filename = f'data/{file_tag}_train_smote.csv'\n",
    "test_filename = f'data/{file_tag}_test.csv'\n",
    "target = 'CovidPos'\n",
    "eval_metric = 'recall'\n"
   ]
  },
  {
   "cell_type": "code",
   "execution_count": 2,
   "metadata": {},
   "outputs": [
    {
     "name": "stdout",
     "output_type": "stream",
     "text": [
      "Train#=371822 Test#=112548\n",
      "Labels=[0.0, 1.0]\n"
     ]
    }
   ],
   "source": [
    "\n",
    "trnX, tstX, trnY, tstY, labels, vars = read_train_test_from_files(train_filename, test_filename, target)\n",
    "print(f'Train#={len(trnX)} Test#={len(tstX)}')\n",
    "print(f'Labels={labels}')\n",
    "\n",
    "figure()\n",
    "best_model, params = knn_study(trnX, trnY, tstX, tstY, k_max=25, metric=eval_metric)\n",
    "savefig(f'images/{file_tag}_knn_{eval_metric}_study.png')\n",
    "# # show()\n",
    "\n",
    "\n",
    "\n",
    "\n",
    "prd_trn: array = best_model.predict(trnX)\n",
    "prd_tst: array = best_model.predict(tstX)\n",
    "figure()\n",
    "plot_evaluation_results(params, trnY, prd_trn, tstY, prd_tst, labels)\n",
    "savefig(f'images/{file_tag}_knn_{params[\"name\"]}_best_{params[\"metric\"]}_eval.png')\n",
    "# # show()"
   ]
  },
  {
   "cell_type": "code",
   "execution_count": null,
   "metadata": {},
   "outputs": [],
   "source": [
    "# from matplotlib.pyplot import figure, savefig\n",
    "\n",
    "# # distance: Literal[\"manhattan\", \"euclidean\", \"chebyshev\"] = params[\"params\"][1]\n",
    "# distance: Literal[\"manhattan\", \"euclidean\", \"chebyshev\"] = \"chebyshev\"\n",
    "# K_MAX = 25\n",
    "# kvalues: list[int] = [i for i in range(1, K_MAX, 2)]\n",
    "# y_tst_values: list = []\n",
    "# y_trn_values: list = []\n",
    "# acc_metric: str = \"recall\"\n",
    "# for k in kvalues:\n",
    "#     print(f\"KNN {distance} k={k}\")\n",
    "#     clf = KNeighborsClassifier(n_neighbors=k, metric=distance)\n",
    "#     clf.fit(trnX, trnY)\n",
    "#     prd_tst_Y: array = clf.predict(tstX)\n",
    "#     prd_trn_Y: array = clf.predict(trnX)\n",
    "#     y_tst_values.append(CLASS_EVAL_METRICS[acc_metric](tstY, prd_tst_Y))\n",
    "#     y_trn_values.append(CLASS_EVAL_METRICS[acc_metric](trnY, prd_trn_Y))\n",
    "\n",
    "# print(\"displaying...\")\n",
    "# figure()\n",
    "# plot_multiline_chart(\n",
    "#     kvalues,\n",
    "#     {\"Train\": y_trn_values, \"Test\": y_tst_values},\n",
    "#     title=f\"KNN overfitting study for {distance}\",\n",
    "#     xlabel=\"K\",\n",
    "#     ylabel=str(eval_metric),\n",
    "#     percentage=True,\n",
    "# )\n",
    "# savefig(f\"images/{file_tag}_knn_overfitting.png\")\n",
    "# # show()"
   ]
  }
 ],
 "metadata": {
  "kernelspec": {
   "display_name": "Python 3",
   "language": "python",
   "name": "python3"
  },
  "language_info": {
   "codemirror_mode": {
    "name": "ipython",
    "version": 3
   },
   "file_extension": ".py",
   "mimetype": "text/x-python",
   "name": "python",
   "nbconvert_exporter": "python",
   "pygments_lexer": "ipython3",
   "version": "3.11.7"
  }
 },
 "nbformat": 4,
 "nbformat_minor": 2
}
